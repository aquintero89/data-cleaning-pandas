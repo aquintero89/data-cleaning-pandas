{
 "cells": [
  {
   "cell_type": "markdown",
   "id": "73a1feaf",
   "metadata": {},
   "source": [
    "Introduction:\n",
    "\n",
    "Sharks are ancient animals. They’ve been on earth for at least 420 million years. One of the most curious facts about sharks is that, unlike most fish, don’t have bones, but cartilage, weird, isn't it? They have several rows of teeth and might have as many as 3,000 teeth in their mouths at one time. If one tooth falls out, another one moves forward to replace it, just ready to bite you.\n",
    "Then we have a little aspect of this majestic animals. Sharks are picky eaters. They often take one bite of something before they decide to go in for the kill. This is why they often swim away after “tasting” a human.  This fact is going to lead us to one of the main subjects of our project: Shark Attacks. Although they are not as common as you may think. (1 in 7 million), sharks have terrible image. Is more likely to be killed by drowning in your bathtub (1 in 840,000) or being killed by an asteroid (1 in 1.9 million).\n",
    "\n",
    "Now let's go to what it concerns to the project. Humans collide with the sharks on their environment: water. “Sharks bites are strongly correlated to the numbers of people and number of sharks in the water at the same time” according to Gavin Naylor, director of the Florida Program for Shark Research. Then, based on the previous quote and considering one of the main variables that bring the people to the water, isn't money what may bring the majority of the attendance to the beaches?\n",
    "We can see over the years that the GDP per Capita is an indicator, in simple words that could help us to measure (between many others) how good (or bad) the people of certain country/city may live. If the GDP per Capita grow means that the purchasing power of the people is bigger, consequently resulting on a grater well-being.\n",
    "\n",
    "Project Objective:\n",
    "The Florida Museum of Natural History has requested our services to work with a historical database and give them an analysis on how the gross domestic product is related to the shark attacks in the United States of America, between a certain range of time (2000-2019) (1)(3). The historical data has register from long before the selected range, but the museum took the criteria using the variable of internet usage which claims that by the year of 2000 was 52% among the adults, according to the article of Pew Research Center: “Americans Internet Acess:2000-2015\" (2). Based on this, they concluded that the data for the year 2000 onwards was collected with more accurate technology and better collection methods.\n",
    "\n",
    "Hypothesis:\n",
    "There is a positive correlation between the shark attacks and the GDP per Capita. While the GDP per Capita is higher, the more people will be on the beach, so there will be a greater number of shark attacks.\n",
    "Scope:\n",
    "1.      Initially, we had a data frame with 25723 rows. After applying our criteria to bring the clearest vision, focusing on our main objectives and using the data wrangling methods that we considered necessary, our final data frame result with 800 rows.\n",
    "2.      Our analysis will include\n",
    "·        The relationship between the shark attacks and the GDP per Capita in US during 2000-2019. In this case, we will evaluate this relationship with correlation analysis and scatter plot.\n",
    "·        The relationship between the shark attacks and the GDP per Capita for the different US States during 2000-2019. In this case, we will evaluate this relationship with correlation analysis and scatter plot.\n",
    "\n",
    "Technology Stack:\n",
    "\n",
    " Data collection:\n",
    "https://ncchamber.com (1)\n",
    "https://www.pewresearch.org/internet/2015/06/26/americans-internet-access-2000-2015/ (2) \n",
    "\n",
    "Business - State Gross Domestic Product.xlsx-https://ncchamber.com/\n",
    "\n",
    "united-states-gdp-per-capita.csv-https://www.macrotrends.net/countries/USA/united-states/gdp-per-capita\n",
    "\n",
    "global-shark-attack.csv-https://public.opendatasoft.com/explore/dataset/global-shark-attack/table/?disjunctive.country&disjunctive.area&disjunctive.activity&refine.date=2022\n",
    "\n",
    "\n",
    "Programming language: \n",
    "\n",
    "Python \n",
    "\n",
    "General libraries: \n",
    "\n",
    "Pandas\n",
    "Datetime\n",
    "Parse\n",
    "NumPy\n",
    "Warnings \n",
    "\n",
    "\n",
    "Folder Structure:\n",
    "    \n",
    "  __pycache__\n",
    "  data_files\n",
    "        attacks.csv\n",
    "        Business – State Gross Domestic Product.xlsx\n",
    "        global-shark-attack.csv\n",
    "        united-states-gdp-per-capita.csv\n",
    "  function_proyect.py\n",
    "  Functions_file\n",
    "        Function_project.py\n",
    "  Project 1 – Data Wrangling\n",
    "        Images\n",
    "  Proyecto.ipynb\n",
    "  Read_Me\n",
    "        Read_Me.ipynb\n",
    "\n"
   ]
  },
  {
   "cell_type": "code",
   "execution_count": null,
   "id": "be560f64",
   "metadata": {},
   "outputs": [],
   "source": []
  }
 ],
 "metadata": {
  "kernelspec": {
   "display_name": "Python 3.10.6 64-bit",
   "language": "python",
   "name": "python3"
  },
  "language_info": {
   "codemirror_mode": {
    "name": "ipython",
    "version": 3
   },
   "file_extension": ".py",
   "mimetype": "text/x-python",
   "name": "python",
   "nbconvert_exporter": "python",
   "pygments_lexer": "ipython3",
   "version": "3.10.6"
  },
  "vscode": {
   "interpreter": {
    "hash": "aee8b7b246df8f9039afb4144a1f6fd8d2ca17a180786b69acc140d282b71a49"
   }
  }
 },
 "nbformat": 4,
 "nbformat_minor": 5
}
